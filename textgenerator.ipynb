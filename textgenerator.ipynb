{
 "cells": [
  {
   "cell_type": "code",
   "execution_count": null,
   "id": "4175ee9c",
   "metadata": {
    "scrolled": true
   },
   "outputs": [],
   "source": [
    "import numpy\n",
    "import sys\n",
    "from nltk.tokenize import RegexpTokenizer\n",
    "from nltk.corpus import stopwords\n",
    "from keras.models import Sequential\n",
    "from keras.layers import Dense,Dropout,LSTM\n",
    "from keras.utils import np_utils\n",
    "from keras.callbacks import ModelCheckpoint"
   ]
  },
  {
   "cell_type": "code",
   "execution_count": null,
   "id": "a01f7a99",
   "metadata": {},
   "outputs": [],
   "source": [
    "file=open(\"frankenstein-2.txt\").read()\n",
    "def tokenize_words(input):\n",
    "    input=input.lower()\n",
    "    tokenizer=RegexpTokenizer(r'\\w+')\n",
    "    tokens=tokenizer.tokenize(input)\n",
    "    filtered=filter(lambda token:token not in stopwords.words('english'),tokens)\n",
    "    return \"\".join(filtered)\n",
    "processed_inputs=tokenize_words(file)\n"
   ]
  },
  {
   "cell_type": "code",
   "execution_count": null,
   "id": "b4f51aa6",
   "metadata": {},
   "outputs": [],
   "source": [
    "chars=sorted(list(set(processed_inputs)))\n",
    "char_to_num=dict((c,i) for i,c in enumerate(chars))\n",
    "input_len=len(processed_inputs)\n",
    "vocab_len=len(chars)\n",
    "print('Total number of characters:',input_len)\n",
    "print('Total vocab:',vocab_len)\n",
    "seq_length=100\n",
    "x_data=[]\n",
    "y_data=[]\n",
    "for i in range(0,input_len-seq_length,1):\n",
    "    in_seq=processed_inputs[i:i + seq_length]\n",
    "    out_seq=processed_input[i + seq_length]\n",
    "    x_data.append([char_to_num[char] for char in in_seq])\n",
    "    y_data.append(char_to_num[out_seq])\n",
    "n_patterns=len(x_data)\n",
    "print('Total patterns:',n_patterns)\n",
    "x=numpy.reshape(x_data,(n_patterns,seq_length,1))\n",
    "x=x/float(vocab_len)\n",
    "y=np_utils.to_categorical(y_data)\n",
    "model=Sequential()\n",
    "model.add(LSTM(256,input_shape=(x.shape[1],x.shape[2]),return_sequences=True))\n",
    "model.add(Dropout(0.2))\n",
    "model.add(LSTM(256,return_sequences=True))\n",
    "model.add(Dropout(0.2))\n",
    "model.add(LSTM(128))\n",
    "model.add(Dropout(0.2))\n",
    "model.add(Dense(y.shape[1],activation=\"softmax\"))\n",
    "model.compile(loss='categorical_crossentropy',optimizer='adam')\n",
    "num_to_char=dict((i,c) for i,c in enumerate(chars))\n",
    "start=numpy.random.randint(0,len(x_data)-1)\n",
    "pattern=x_data[start]\n",
    "print('Random seed:')\n",
    "print(\"\\\"\",''.join([num_to_char[value] for value in pattern]),\"\\\"\")\n",
    "for i in range(1000):\n",
    "    x=numpy.reshape(pattern(1,len(pattern),1))\n",
    "    x=x/float(vocab_len)\n",
    "    pred=model.predict(x,verbose=0)\n",
    "    index=numpy.argmax(pred)\n",
    "    results=num_to_char[index]\n",
    "    seq_in=[num_to_char[value] for value in pattern]\n",
    "    sys.stdout.write(result)\n",
    "    pattern.append(index)\n",
    "    pattern=pattern[1:len(pattern)]"
   ]
  },
  {
   "cell_type": "code",
   "execution_count": null,
   "id": "d9f6997c",
   "metadata": {},
   "outputs": [],
   "source": []
  }
 ],
 "metadata": {
  "kernelspec": {
   "display_name": "Python 3 (ipykernel)",
   "language": "python",
   "name": "python3"
  },
  "language_info": {
   "codemirror_mode": {
    "name": "ipython",
    "version": 3
   },
   "file_extension": ".py",
   "mimetype": "text/x-python",
   "name": "python",
   "nbconvert_exporter": "python",
   "pygments_lexer": "ipython3",
   "version": "3.9.7"
  }
 },
 "nbformat": 4,
 "nbformat_minor": 5
}
